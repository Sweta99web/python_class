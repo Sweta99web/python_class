{
 "cells": [
  {
   "cell_type": "code",
   "execution_count": 1,
   "id": "a6d1cbd8-3559-4757-ba4c-939a495b4f37",
   "metadata": {},
   "outputs": [
    {
     "name": "stdin",
     "output_type": "stream",
     "text": [
      "Enter the principal: 10\n",
      "Enter the time: 20\n",
      "Enter the Rate: 5\n"
     ]
    },
    {
     "name": "stdout",
     "output_type": "stream",
     "text": [
      "10.0\n"
     ]
    }
   ],
   "source": [
    "P = int(input(\"Enter the principal:\"))\n",
    "T = int(input(\"Enter the time:\"))\n",
    "R = int(input(\"Enter the Rate:\"))\n",
    "SI = (P*T*R)/100\n",
    "print(SI)"
   ]
  },
  {
   "cell_type": "code",
   "execution_count": 2,
   "id": "7eea8810-b350-4edb-b2b9-bb099316dbce",
   "metadata": {},
   "outputs": [
    {
     "ename": "SyntaxError",
     "evalue": "'(' was never closed (1822340429.py, line 3)",
     "output_type": "error",
     "traceback": [
      "\u001b[1;36m  Cell \u001b[1;32mIn[2], line 3\u001b[1;36m\u001b[0m\n\u001b[1;33m    math = int(input((\"Enter:\"))\u001b[0m\n\u001b[1;37m              ^\u001b[0m\n\u001b[1;31mSyntaxError\u001b[0m\u001b[1;31m:\u001b[0m '(' was never closed\n"
     ]
    }
   ],
   "source": [
    "Student_name = input(\"Enter the name:\")\n",
    "Student_class = input (\"Enter the class:\")\n",
    "math = int(input((\"Enter:\"))\n",
    "science = int(input(\"Enter:\"))\n",
    "English = int(input(\"Enter:\"))\n",
    "Nepali = int (input(\"Enter:\"))\n",
    "History = int (input(\"Enter:\"))\n",
    "print(Total marks of Student_name is )\n",
    "Print (Percentage is )\n"
   ]
  },
  {
   "cell_type": "code",
   "execution_count": null,
   "id": "cd98e280-e648-4421-92fa-2b9f5221dd32",
   "metadata": {},
   "outputs": [],
   "source": [
    "name = input"
   ]
  }
 ],
 "metadata": {
  "kernelspec": {
   "display_name": "Python 3 (ipykernel)",
   "language": "python",
   "name": "python3"
  },
  "language_info": {
   "codemirror_mode": {
    "name": "ipython",
    "version": 3
   },
   "file_extension": ".py",
   "mimetype": "text/x-python",
   "name": "python",
   "nbconvert_exporter": "python",
   "pygments_lexer": "ipython3",
   "version": "3.11.7"
  }
 },
 "nbformat": 4,
 "nbformat_minor": 5
}
