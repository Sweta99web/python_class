{
 "cells": [
  {
   "cell_type": "code",
   "execution_count": 4,
   "id": "7e29254c-3abf-419b-ae2d-fe32d8e977d7",
   "metadata": {},
   "outputs": [
    {
     "name": "stdin",
     "output_type": "stream",
     "text": [
      "Enter name: Sweta\n",
      "Enter age: 24\n",
      "Enter address Duhabi\n"
     ]
    },
    {
     "name": "stdout",
     "output_type": "stream",
     "text": [
      "Hello world I am Sweta\n"
     ]
    }
   ],
   "source": [
    "name = input (\"Enter name:\")\n",
    "age = int (input(\"Enter age:\"))\n",
    "address = input (\"Enter address\")\n",
    "info = \"Hello world I am \" +  name\n",
    "print(info)"
   ]
  },
  {
   "cell_type": "code",
   "execution_count": null,
   "id": "d0c7d3f3-6873-46f9-8ca8-19de48a00043",
   "metadata": {},
   "outputs": [],
   "source": []
  }
 ],
 "metadata": {
  "kernelspec": {
   "display_name": "Python 3 (ipykernel)",
   "language": "python",
   "name": "python3"
  },
  "language_info": {
   "codemirror_mode": {
    "name": "ipython",
    "version": 3
   },
   "file_extension": ".py",
   "mimetype": "text/x-python",
   "name": "python",
   "nbconvert_exporter": "python",
   "pygments_lexer": "ipython3",
   "version": "3.11.7"
  }
 },
 "nbformat": 4,
 "nbformat_minor": 5
}
