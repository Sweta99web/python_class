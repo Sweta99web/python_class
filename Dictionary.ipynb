{
 "cells": [
  {
   "cell_type": "code",
   "execution_count": 1,
   "id": "6a1aa76a-7da6-44a4-9e18-85f49cee67c0",
   "metadata": {},
   "outputs": [],
   "source": [
    "#Indexing#multiple and duplicate data or values\n",
    "#ordered\n",
    "#mutabe\n",
    "#Ordered\n",
    "#Mutable"
   ]
  },
  {
   "cell_type": "code",
   "execution_count": 2,
   "id": "8b2556c2-458b-4c6c-98e7-5c7992311de4",
   "metadata": {},
   "outputs": [
    {
     "name": "stdout",
     "output_type": "stream",
     "text": [
      "<class 'dict'>\n"
     ]
    }
   ],
   "source": [
    "d = dict()\n",
    "d = {}\n",
    "print(type(d))"
   ]
  },
  {
   "cell_type": "code",
   "execution_count": 3,
   "id": "ea70a956-fb30-45df-8617-8da00fbd2330",
   "metadata": {},
   "outputs": [],
   "source": [
    "# d = {<key>:<value>}"
   ]
  },
  {
   "cell_type": "code",
   "execution_count": null,
   "id": "1a3c6bed-cb9e-40de-be02-f501f62259b8",
   "metadata": {},
   "outputs": [],
   "source": []
  },
  {
   "cell_type": "code",
   "execution_count": null,
   "id": "a6d85a6f-96a8-47d7-b958-a49418001039",
   "metadata": {},
   "outputs": [],
   "source": [
    ".\n",
    "\n",
    "\n",
    "\n",
    ".01"
   ]
  }
 ],
 "metadata": {
  "kernelspec": {
   "display_name": "Python 3 (ipykernel)",
   "language": "python",
   "name": "python3"
  },
  "language_info": {
   "codemirror_mode": {
    "name": "ipython",
    "version": 3
   },
   "file_extension": ".py",
   "mimetype": "text/x-python",
   "name": "python",
   "nbconvert_exporter": "python",
   "pygments_lexer": "ipython3",
   "version": "3.11.7"
  }
 },
 "nbformat": 4,
 "nbformat_minor": 5
}
