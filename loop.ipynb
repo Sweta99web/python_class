{
 "cells": [
  {
   "cell_type": "code",
   "execution_count": 1,
   "id": "b306b949-cc66-414e-b695-b728e8ebbd73",
   "metadata": {},
   "outputs": [],
   "source": [
    "#for loop\n",
    "#while loop"
   ]
  },
  {
   "cell_type": "code",
   "execution_count": 2,
   "id": "8914343e-abd7-4e7e-ac4b-9f56489372d2",
   "metadata": {},
   "outputs": [
    {
     "data": {
      "text/plain": [
       "range"
      ]
     },
     "execution_count": 2,
     "metadata": {},
     "output_type": "execute_result"
    }
   ],
   "source": [
    "range #creates sequences of no\n",
    "range(5) #0 1 2 3 4\n",
    "range(1,5) #1,2,3,4\n",
    "range(1,5,2)#1,3"
   ]
  },
  {
   "cell_type": "code",
   "execution_count": 3,
   "id": "53b4e3dd-16fa-4289-baeb-c9ac7d91afcb",
   "metadata": {},
   "outputs": [
    {
     "name": "stdout",
     "output_type": "stream",
     "text": [
      "0\n",
      "1\n",
      "2\n",
      "3\n",
      "4\n"
     ]
    }
   ],
   "source": [
    "for i in range(5):\n",
    "    print(i)"
   ]
  },
  {
   "cell_type": "code",
   "execution_count": 4,
   "id": "0f8c876a-88d6-42fd-a8ca-c0f568273212",
   "metadata": {},
   "outputs": [
    {
     "name": "stdout",
     "output_type": "stream",
     "text": [
      "1\n",
      "2\n",
      "3\n",
      "4\n"
     ]
    }
   ],
   "source": [
    "for i in range(1,5):\n",
    "    print(i)"
   ]
  },
  {
   "cell_type": "code",
   "execution_count": 5,
   "id": "ddf7d3c6-71a0-4c8a-94d3-526e6266eb1d",
   "metadata": {},
   "outputs": [
    {
     "name": "stdout",
     "output_type": "stream",
     "text": [
      "1\n",
      "3\n"
     ]
    }
   ],
   "source": [
    "for i in range(1,5,2):\n",
    "    print(i)"
   ]
  },
  {
   "cell_type": "code",
   "execution_count": 8,
   "id": "9d391dbc-8dae-445a-b05f-ad4d5f7e3ea2",
   "metadata": {},
   "outputs": [
    {
     "name": "stdout",
     "output_type": "stream",
     "text": [
      "0 hello world\n",
      "1 hello world\n",
      "2 hello world\n",
      "3 hello world\n",
      "4 hello world\n"
     ]
    }
   ],
   "source": [
    "for i in range(5):\n",
    "    print(i,\"hello world\")"
   ]
  },
  {
   "cell_type": "code",
   "execution_count": 9,
   "id": "b2183633-cbfa-43ba-92c7-97b3d0f28649",
   "metadata": {},
   "outputs": [
    {
     "name": "stdout",
     "output_type": "stream",
     "text": [
      "7\n",
      "14\n",
      "21\n",
      "28\n",
      "35\n",
      "42\n",
      "49\n",
      "56\n",
      "63\n",
      "70\n"
     ]
    }
   ],
   "source": [
    "for i in range(1,11):\n",
    "    print(i*7)"
   ]
  },
  {
   "cell_type": "code",
   "execution_count": 10,
   "id": "05c9ba6d-ca1b-425f-9e31-5fb06f8d5cd6",
   "metadata": {},
   "outputs": [
    {
     "name": "stdin",
     "output_type": "stream",
     "text": [
      "Enter the value of x: 10\n"
     ]
    },
    {
     "name": "stdout",
     "output_type": "stream",
     "text": [
      "10 * 1 = 10\n",
      "10 * 2 = 20\n",
      "10 * 3 = 30\n",
      "10 * 4 = 40\n",
      "10 * 5 = 50\n",
      "10 * 6 = 60\n",
      "10 * 7 = 70\n",
      "10 * 8 = 80\n",
      "10 * 9 = 90\n",
      "10 * 10 = 100\n"
     ]
    }
   ],
   "source": [
    "x = int(input(\"Enter the value of x:\"))\n",
    "for i in range(1,11):\n",
    "    print(x,\"*\",i,\"=\",i*x)"
   ]
  },
  {
   "cell_type": "code",
   "execution_count": 11,
   "id": "d302af9c-118a-4c27-84ea-78d6e7d1fa9a",
   "metadata": {},
   "outputs": [
    {
     "name": "stdin",
     "output_type": "stream",
     "text": [
      "Enter the value of x: 1000\n"
     ]
    },
    {
     "name": "stdout",
     "output_type": "stream",
     "text": [
      "1000\n"
     ]
    },
    {
     "name": "stdin",
     "output_type": "stream",
     "text": [
      "Enter the value of x: 1000\n"
     ]
    },
    {
     "name": "stdout",
     "output_type": "stream",
     "text": [
      "2000\n"
     ]
    },
    {
     "name": "stdin",
     "output_type": "stream",
     "text": [
      "Enter the value of x: 1000\n"
     ]
    },
    {
     "name": "stdout",
     "output_type": "stream",
     "text": [
      "3000\n"
     ]
    },
    {
     "name": "stdin",
     "output_type": "stream",
     "text": [
      "Enter the value of x: 1000\n"
     ]
    },
    {
     "name": "stdout",
     "output_type": "stream",
     "text": [
      "4000\n"
     ]
    },
    {
     "name": "stdin",
     "output_type": "stream",
     "text": [
      "Enter the value of x: 1000\n"
     ]
    },
    {
     "name": "stdout",
     "output_type": "stream",
     "text": [
      "5000\n"
     ]
    }
   ],
   "source": [
    "xyz=0\n",
    "for i in range(5):\n",
    "    x = int(input(\"Enter the value of x:\"))\n",
    "    xyz = xyz + x\n",
    "    print(xyz)"
   ]
  },
  {
   "cell_type": "code",
   "execution_count": 12,
   "id": "48f14d1e-7cd6-41b0-aa7e-8d66afc46dcd",
   "metadata": {},
   "outputs": [
    {
     "name": "stdin",
     "output_type": "stream",
     "text": [
      "Enter the value of x: 2000\n",
      "Enter the value of x: 3000\n",
      "Enter the value of x: 4000\n",
      "Enter the value of x: 1000\n",
      "Enter the value of x: 1000\n"
     ]
    },
    {
     "name": "stdout",
     "output_type": "stream",
     "text": [
      "11000\n"
     ]
    }
   ],
   "source": [
    "xyz=0\n",
    "for i in range(5):\n",
    "    x = int(input(\"Enter the value of x:\"))\n",
    "    xyz = xyz + x\n",
    "print(xyz)"
   ]
  },
  {
   "cell_type": "code",
   "execution_count": 14,
   "id": "de980bde-a65a-4a82-986a-00930beb6edb",
   "metadata": {},
   "outputs": [
    {
     "name": "stdin",
     "output_type": "stream",
     "text": [
      "Enter the value of x: ram\n",
      "Enter the value of x: shyam\n",
      "Enter the value of x: hari \n",
      "Enter the value of x: gita\n",
      "Enter the value of x: rita\n"
     ]
    },
    {
     "name": "stdout",
     "output_type": "stream",
     "text": [
      "ram\n",
      "shyam\n",
      "hari \n",
      "gita\n",
      "rita\n",
      "\n"
     ]
    }
   ],
   "source": [
    "xyz = str()\n",
    "for i in range(5):\n",
    "    x = input(\"Enter the value of x:\")\n",
    "    xyz = xyz + x + \"\\n\"\n",
    "print(xyz)"
   ]
  },
  {
   "cell_type": "code",
   "execution_count": 15,
   "id": "f2c0c1d6-99b3-4558-a5e6-661507f73d38",
   "metadata": {},
   "outputs": [
    {
     "name": "stdin",
     "output_type": "stream",
     "text": [
      "Enter n =  3\n",
      "Enter the value of x: ram\n",
      "Enter the value of x: shyam\n",
      "Enter the value of x: hari\n"
     ]
    },
    {
     "name": "stdout",
     "output_type": "stream",
     "text": [
      "ram\n",
      "shyam\n",
      "hari\n",
      "\n"
     ]
    }
   ],
   "source": [
    "xyz = str()\n",
    "n = int(input(\"Enter n = \"))\n",
    "for i in range(n):\n",
    "    x = input(\"Enter the value of x:\")\n",
    "    xyz = xyz + x + \"\\n\"\n",
    "print(xyz)"
   ]
  },
  {
   "cell_type": "code",
   "execution_count": 16,
   "id": "d095b832-9634-4565-a26a-0646f8c1be95",
   "metadata": {},
   "outputs": [
    {
     "name": "stdin",
     "output_type": "stream",
     "text": [
      "Enter n =  3\n",
      "Enter name =  ram\n",
      "Enter phone =  123\n",
      "Enter name =  shyam\n",
      "Enter phone =  321\n",
      "Enter name =  hari\n",
      "Enter phone =  456\n"
     ]
    },
    {
     "name": "stdout",
     "output_type": "stream",
     "text": [
      "hari 456\n",
      "\n"
     ]
    }
   ],
   "source": [
    "contact = \"\"\n",
    "n = int(input(\"Enter n = \"))\n",
    "for i in range(n):\n",
    "    name = input(\"Enter name = \")\n",
    "    phone = int(input(\"Enter phone = \"))\n",
    "    contact = name + \" \" + str(phone) + \"\\n\"\n",
    "print(contact)"
   ]
  },
  {
   "cell_type": "code",
   "execution_count": 19,
   "id": "41480875-fee2-4bbb-9bc9-d71938e331cf",
   "metadata": {},
   "outputs": [
    {
     "name": "stdin",
     "output_type": "stream",
     "text": [
      "Enter n =  2\n",
      "Enter name =  ram\n",
      "Enter phone =  321\n",
      "Enter name =  shyam\n",
      "Enter phone =  123\n"
     ]
    },
    {
     "name": "stdout",
     "output_type": "stream",
     "text": [
      "ram 321\n",
      "shyam 123\n",
      "\n"
     ]
    }
   ],
   "source": [
    "contact = \"\"\n",
    "n = int(input(\"Enter n = \"))\n",
    "for i in range(n):\n",
    "    name = input(\"Enter name = \")\n",
    "    phone = int(input(\"Enter phone = \"))\n",
    "    contact = contact + name + \" \" + str(phone) + \"\\n\"\n",
    "print(contact)"
   ]
  },
  {
   "cell_type": "code",
   "execution_count": 20,
   "id": "95f04fc1-df73-4adb-81f7-6aae6f4c10c3",
   "metadata": {},
   "outputs": [],
   "source": [
    "#facrotial num\n",
    "#n! = n*(n-1)*(n-2)*(n-3)*..............\n",
    "#5! = 5*4*3*2*1"
   ]
  },
  {
   "cell_type": "code",
   "execution_count": 21,
   "id": "9e5d2ba8-c4e9-4025-8fba-8de9c2a87bda",
   "metadata": {},
   "outputs": [
    {
     "name": "stdin",
     "output_type": "stream",
     "text": [
      "enter the value of n= 5\n"
     ]
    },
    {
     "name": "stdout",
     "output_type": "stream",
     "text": [
      "1\n",
      "2\n",
      "6\n",
      "24\n",
      "120\n"
     ]
    }
   ],
   "source": [
    "fac = 1\n",
    "n = int(input(\"enter the value of n=\"))\n",
    "for i in range(1,n+1):\n",
    "    fac = fac*i\n",
    "    print(fac)"
   ]
  },
  {
   "cell_type": "code",
   "execution_count": null,
   "id": "29c8319f-a774-4885-933e-6546a9b9e371",
   "metadata": {},
   "outputs": [],
   "source": []
  }
 ],
 "metadata": {
  "kernelspec": {
   "display_name": "Python 3 (ipykernel)",
   "language": "python",
   "name": "python3"
  },
  "language_info": {
   "codemirror_mode": {
    "name": "ipython",
    "version": 3
   },
   "file_extension": ".py",
   "mimetype": "text/x-python",
   "name": "python",
   "nbconvert_exporter": "python",
   "pygments_lexer": "ipython3",
   "version": "3.11.7"
  }
 },
 "nbformat": 4,
 "nbformat_minor": 5
}
