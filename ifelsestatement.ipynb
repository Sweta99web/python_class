{
 "cells": [
  {
   "cell_type": "code",
   "execution_count": 4,
   "id": "41130144-9059-402f-93aa-01e3695a2aa4",
   "metadata": {},
   "outputs": [
    {
     "name": "stdin",
     "output_type": "stream",
     "text": [
      "Enter age: 11\n"
     ]
    },
    {
     "name": "stdout",
     "output_type": "stream",
     "text": [
      "Your age is greater than 10\n"
     ]
    }
   ],
   "source": [
    "age = int (input(\"Enter age:\"))\n",
    "if age > 10:\n",
    "    print(\"Your age is greater than 10\")\n",
    "else:\n",
    "    print(\"You are under age\")\n"
   ]
  },
  {
   "cell_type": "code",
   "execution_count": 5,
   "id": "bbbec41b-aef0-40d6-bd34-b57130c47420",
   "metadata": {},
   "outputs": [
    {
     "name": "stdin",
     "output_type": "stream",
     "text": [
      "Enter the num: 11\n"
     ]
    },
    {
     "name": "stdout",
     "output_type": "stream",
     "text": [
      "the given number is odd\n"
     ]
    }
   ],
   "source": [
    "n = int(input(\"Enter the num:\"))\n",
    "if n % 2 == 0:\n",
    "    print(\"The given number is even\")\n",
    "else:\n",
    "    print(\"the given number is odd\")\n",
    "    "
   ]
  },
  {
   "cell_type": "code",
   "execution_count": 9,
   "id": "1c539bef-cd62-43e3-a354-895251276079",
   "metadata": {},
   "outputs": [
    {
     "name": "stdin",
     "output_type": "stream",
     "text": [
      "Enter a: 2\n",
      "Enter b: 3\n"
     ]
    },
    {
     "name": "stdout",
     "output_type": "stream",
     "text": [
      "3 is greater than 2\n"
     ]
    }
   ],
   "source": [
    "a = int (input(\"Enter a:\"))\n",
    "b = int (input(\"Enter b:\"))\n",
    "if a>b:\n",
    "    print(a,\"is greater than\",b)\n",
    "elif b>a:\n",
    "    print(b, \"is greater than\", a)\n",
    "else: \n",
    "    print(a, \"and\", b, \"are equal\")"
   ]
  },
  {
   "cell_type": "code",
   "execution_count": 18,
   "id": "5f84b2a2-c5a3-4ae7-9a7c-331d5e37eb8d",
   "metadata": {},
   "outputs": [
    {
     "name": "stdin",
     "output_type": "stream",
     "text": [
      "Enter your marks: 69\n"
     ]
    },
    {
     "name": "stdout",
     "output_type": "stream",
     "text": [
      "Your grade is B\n"
     ]
    }
   ],
   "source": [
    "mark = int(input(\"Enter your marks:\"))\n",
    "if mark>=80  and mark<=100:\n",
    "    print(\"Your grade is A+\")\n",
    "elif mark<80 and mark>=60:\n",
    "    print(\"Your grade is B\")\n",
    "elif mark<60 and mark>=50:\n",
    "    print(\"Your grade is C\")\n",
    "else:\n",
    "    print(\"Your grade is D\")\n"
   ]
  },
  {
   "cell_type": "code",
   "execution_count": 1,
   "id": "caed0053-5296-4d51-809f-4adfd07de07e",
   "metadata": {},
   "outputs": [
    {
     "name": "stdin",
     "output_type": "stream",
     "text": [
      "Enter the number: 10\n",
      "Enter the number: 12\n"
     ]
    }
   ],
   "source": [
    "a = int (input(\"Enter the number:\"))\n",
    "b = int (input(\"Enter the number:\"))\n",
    "sum = a + b\n",
    "subtract = a - b\n",
    "multiplication = a * b\n",
    "divide = a / b\n"
   ]
  },
  {
   "cell_type": "code",
   "execution_count": 2,
   "id": "64dd11fa-fcfc-4fe3-9f2c-23abcd06622d",
   "metadata": {},
   "outputs": [
    {
     "data": {
      "text/plain": [
       "'C:\\\\Users\\\\Dell\\\\Python_with_datascience'"
      ]
     },
     "execution_count": 2,
     "metadata": {},
     "output_type": "execute_result"
    }
   ],
   "source": [
    "pwd"
   ]
  },
  {
   "cell_type": "code",
   "execution_count": null,
   "id": "7b5e15f3-a0d6-48ae-aa49-9a9e1d0236bb",
   "metadata": {},
   "outputs": [],
   "source": []
  }
 ],
 "metadata": {
  "kernelspec": {
   "display_name": "Python 3 (ipykernel)",
   "language": "python",
   "name": "python3"
  },
  "language_info": {
   "codemirror_mode": {
    "name": "ipython",
    "version": 3
   },
   "file_extension": ".py",
   "mimetype": "text/x-python",
   "name": "python",
   "nbconvert_exporter": "python",
   "pygments_lexer": "ipython3",
   "version": "3.11.7"
  }
 },
 "nbformat": 4,
 "nbformat_minor": 5
}
